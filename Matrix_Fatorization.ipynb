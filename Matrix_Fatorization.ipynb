{
 "cells": [
  {
   "cell_type": "code",
   "execution_count": 1,
   "id": "95c47420",
   "metadata": {},
   "outputs": [],
   "source": [
    "import torch\n",
    "import pandas as pd\n",
    "import numpy as np\n",
    "import os\n",
    "from scipy.sparse import coo_matrix\n",
    "from torch.utils.data.dataset import random_split\n",
    "from torch.utils.data import Dataset, DataLoader\n",
    "from tqdm.auto import tqdm"
   ]
  },
  {
   "cell_type": "code",
   "execution_count": 2,
   "id": "d289d014",
   "metadata": {},
   "outputs": [],
   "source": [
    "# if not os.path.isfile('dataset.csv'):\n",
    "#     dataset = open('dataset.csv', mode='w')\n",
    "\n",
    "# files = ['combined_data_1.txt',\n",
    "#          'combined_data_2.txt',\n",
    "#          'combined_data_3.txt',\n",
    "#          'combined_data_4.txt']\n",
    "\n",
    "# # Remove the line with movie_id: and add a new column of movie_id\n",
    "# # Combine all data files into a csv file\n",
    "# for file in files:\n",
    "#   print(\"Opening file: {}\".format(file))\n",
    "#   with open(file) as f:\n",
    "#     for line in f:\n",
    "#         line = line.strip()\n",
    "#         if line.endswith(':'):\n",
    "#             movie_id = line.replace(':', '')\n",
    "#         else:\n",
    "#             dataset.write(movie_id + ',' + line)\n",
    "#             dataset.write('\\n')\n",
    "# dataset.close()\n",
    "\n",
    "# # Read all data into a pd dataframe\n",
    "# data = pd.read_csv('dataset.csv', names=['movie_id', 'user_id','rating','date'])\n",
    "\n",
    "# data"
   ]
  },
  {
   "cell_type": "code",
   "execution_count": 3,
   "id": "fc701154",
   "metadata": {},
   "outputs": [
    {
     "data": {
      "text/plain": [
       "device(type='cuda', index=0)"
      ]
     },
     "execution_count": 3,
     "metadata": {},
     "output_type": "execute_result"
    }
   ],
   "source": [
    "device = torch.device('cuda:0' if  torch.cuda.is_available() else 'cpu')\n",
    "device"
   ]
  },
  {
   "cell_type": "code",
   "execution_count": 4,
   "id": "01dd30a8",
   "metadata": {},
   "outputs": [],
   "source": [
    "data = pd.read_csv('dataset.csv', names=['movie_id', 'user_id','rating','date'])"
   ]
  },
  {
   "cell_type": "code",
   "execution_count": 5,
   "id": "1bc043e0",
   "metadata": {},
   "outputs": [
    {
     "name": "stdout",
     "output_type": "stream",
     "text": [
      "<class 'pandas.core.frame.DataFrame'>\n",
      "RangeIndex: 100480507 entries, 0 to 100480506\n",
      "Data columns (total 4 columns):\n",
      " #   Column    Dtype \n",
      "---  ------    ----- \n",
      " 0   movie_id  int64 \n",
      " 1   user_id   int64 \n",
      " 2   rating    int64 \n",
      " 3   date      object\n",
      "dtypes: int64(3), object(1)\n",
      "memory usage: 3.0+ GB\n"
     ]
    }
   ],
   "source": [
    "data.info()"
   ]
  },
  {
   "cell_type": "code",
   "execution_count": 6,
   "id": "24bb96b6",
   "metadata": {},
   "outputs": [],
   "source": [
    "data = data.astype({ 'rating':float })"
   ]
  },
  {
   "cell_type": "code",
   "execution_count": 7,
   "id": "5fd9c20a",
   "metadata": {},
   "outputs": [
    {
     "data": {
      "text/html": [
       "<div>\n",
       "<style scoped>\n",
       "    .dataframe tbody tr th:only-of-type {\n",
       "        vertical-align: middle;\n",
       "    }\n",
       "\n",
       "    .dataframe tbody tr th {\n",
       "        vertical-align: top;\n",
       "    }\n",
       "\n",
       "    .dataframe thead th {\n",
       "        text-align: right;\n",
       "    }\n",
       "</style>\n",
       "<table border=\"1\" class=\"dataframe\">\n",
       "  <thead>\n",
       "    <tr style=\"text-align: right;\">\n",
       "      <th></th>\n",
       "      <th>movie_id</th>\n",
       "      <th>user_id</th>\n",
       "      <th>rating</th>\n",
       "      <th>date</th>\n",
       "    </tr>\n",
       "  </thead>\n",
       "  <tbody>\n",
       "    <tr>\n",
       "      <th>0</th>\n",
       "      <td>1</td>\n",
       "      <td>1488844</td>\n",
       "      <td>3.0</td>\n",
       "      <td>2005-09-06</td>\n",
       "    </tr>\n",
       "    <tr>\n",
       "      <th>1</th>\n",
       "      <td>1</td>\n",
       "      <td>822109</td>\n",
       "      <td>5.0</td>\n",
       "      <td>2005-05-13</td>\n",
       "    </tr>\n",
       "    <tr>\n",
       "      <th>2</th>\n",
       "      <td>1</td>\n",
       "      <td>885013</td>\n",
       "      <td>4.0</td>\n",
       "      <td>2005-10-19</td>\n",
       "    </tr>\n",
       "    <tr>\n",
       "      <th>3</th>\n",
       "      <td>1</td>\n",
       "      <td>30878</td>\n",
       "      <td>4.0</td>\n",
       "      <td>2005-12-26</td>\n",
       "    </tr>\n",
       "    <tr>\n",
       "      <th>4</th>\n",
       "      <td>1</td>\n",
       "      <td>823519</td>\n",
       "      <td>3.0</td>\n",
       "      <td>2004-05-03</td>\n",
       "    </tr>\n",
       "  </tbody>\n",
       "</table>\n",
       "</div>"
      ],
      "text/plain": [
       "   movie_id  user_id  rating        date\n",
       "0         1  1488844     3.0  2005-09-06\n",
       "1         1   822109     5.0  2005-05-13\n",
       "2         1   885013     4.0  2005-10-19\n",
       "3         1    30878     4.0  2005-12-26\n",
       "4         1   823519     3.0  2004-05-03"
      ]
     },
     "execution_count": 7,
     "metadata": {},
     "output_type": "execute_result"
    }
   ],
   "source": [
    "data.head()"
   ]
  },
  {
   "cell_type": "code",
   "execution_count": 8,
   "id": "7ac8588f",
   "metadata": {},
   "outputs": [
    {
     "data": {
      "text/html": [
       "<div>\n",
       "<style scoped>\n",
       "    .dataframe tbody tr th:only-of-type {\n",
       "        vertical-align: middle;\n",
       "    }\n",
       "\n",
       "    .dataframe tbody tr th {\n",
       "        vertical-align: top;\n",
       "    }\n",
       "\n",
       "    .dataframe thead th {\n",
       "        text-align: right;\n",
       "    }\n",
       "</style>\n",
       "<table border=\"1\" class=\"dataframe\">\n",
       "  <thead>\n",
       "    <tr style=\"text-align: right;\">\n",
       "      <th></th>\n",
       "      <th>movie_id</th>\n",
       "      <th>user_id</th>\n",
       "      <th>rating</th>\n",
       "      <th>date</th>\n",
       "    </tr>\n",
       "  </thead>\n",
       "  <tbody>\n",
       "    <tr>\n",
       "      <th>100480502</th>\n",
       "      <td>17770</td>\n",
       "      <td>1790158</td>\n",
       "      <td>4.0</td>\n",
       "      <td>2005-11-01</td>\n",
       "    </tr>\n",
       "    <tr>\n",
       "      <th>100480503</th>\n",
       "      <td>17770</td>\n",
       "      <td>1608708</td>\n",
       "      <td>3.0</td>\n",
       "      <td>2005-07-19</td>\n",
       "    </tr>\n",
       "    <tr>\n",
       "      <th>100480504</th>\n",
       "      <td>17770</td>\n",
       "      <td>234275</td>\n",
       "      <td>1.0</td>\n",
       "      <td>2004-08-07</td>\n",
       "    </tr>\n",
       "    <tr>\n",
       "      <th>100480505</th>\n",
       "      <td>17770</td>\n",
       "      <td>255278</td>\n",
       "      <td>4.0</td>\n",
       "      <td>2004-05-28</td>\n",
       "    </tr>\n",
       "    <tr>\n",
       "      <th>100480506</th>\n",
       "      <td>17770</td>\n",
       "      <td>453585</td>\n",
       "      <td>2.0</td>\n",
       "      <td>2005-03-10</td>\n",
       "    </tr>\n",
       "  </tbody>\n",
       "</table>\n",
       "</div>"
      ],
      "text/plain": [
       "           movie_id  user_id  rating        date\n",
       "100480502     17770  1790158     4.0  2005-11-01\n",
       "100480503     17770  1608708     3.0  2005-07-19\n",
       "100480504     17770   234275     1.0  2004-08-07\n",
       "100480505     17770   255278     4.0  2004-05-28\n",
       "100480506     17770   453585     2.0  2005-03-10"
      ]
     },
     "execution_count": 8,
     "metadata": {},
     "output_type": "execute_result"
    }
   ],
   "source": [
    "data.tail()"
   ]
  },
  {
   "cell_type": "markdown",
   "id": "17895335",
   "metadata": {},
   "source": [
    "## Data Split"
   ]
  },
  {
   "cell_type": "code",
   "execution_count": 9,
   "id": "bfab7eea",
   "metadata": {},
   "outputs": [],
   "source": [
    "coo_val = np.array(data['rating'])\n",
    "coo_col = np.array(data['movie_id'])\n",
    "coo_row = np.array(data['user_id'])"
   ]
  },
  {
   "cell_type": "code",
   "execution_count": 10,
   "id": "c90c3b67",
   "metadata": {},
   "outputs": [
    {
     "data": {
      "text/plain": [
       "array([    1,     1,     1, ..., 17770, 17770, 17770])"
      ]
     },
     "execution_count": 10,
     "metadata": {},
     "output_type": "execute_result"
    }
   ],
   "source": [
    "coo_col"
   ]
  },
  {
   "cell_type": "code",
   "execution_count": 11,
   "id": "4f45304a",
   "metadata": {},
   "outputs": [
    {
     "data": {
      "text/plain": [
       "movie_id     17770\n",
       "user_id     480189\n",
       "rating           5\n",
       "date          2182\n",
       "dtype: int64"
      ]
     },
     "execution_count": 11,
     "metadata": {},
     "output_type": "execute_result"
    }
   ],
   "source": [
    "data.nunique()"
   ]
  },
  {
   "cell_type": "code",
   "execution_count": 12,
   "id": "a9e46e6e",
   "metadata": {},
   "outputs": [
    {
     "data": {
      "text/plain": [
       "2649429"
      ]
     },
     "execution_count": 12,
     "metadata": {},
     "output_type": "execute_result"
    }
   ],
   "source": [
    "max(data['user_id'])"
   ]
  },
  {
   "cell_type": "markdown",
   "id": "488835a3",
   "metadata": {},
   "source": [
    "user_id를 그냥 row의 index로 써버리면 너무 큰 matrix가 나온다."
   ]
  },
  {
   "cell_type": "code",
   "execution_count": 13,
   "id": "3e3f5bb5",
   "metadata": {},
   "outputs": [],
   "source": [
    "user, indices = np.unique(coo_row, return_inverse=True) # user의 id와 가진 user_id의 index 반환"
   ]
  },
  {
   "cell_type": "code",
   "execution_count": 14,
   "id": "0035ca5f",
   "metadata": {},
   "outputs": [
    {
     "name": "stdout",
     "output_type": "stream",
     "text": [
      "[      6       7       8 ... 2649421 2649426 2649429]\n",
      "[270045 149546 160878 ...  42442  46235  82582]\n"
     ]
    }
   ],
   "source": [
    "print(user) # 존재하는 user id\n",
    "print(indices) # data user_id를 index로 변환"
   ]
  },
  {
   "cell_type": "code",
   "execution_count": 15,
   "id": "816b8f3d",
   "metadata": {},
   "outputs": [
    {
     "data": {
      "text/plain": [
       "480188"
      ]
     },
     "execution_count": 15,
     "metadata": {},
     "output_type": "execute_result"
    }
   ],
   "source": [
    "max(indices)"
   ]
  },
  {
   "cell_type": "code",
   "execution_count": 16,
   "id": "7a313c8f",
   "metadata": {},
   "outputs": [
    {
     "name": "stdout",
     "output_type": "stream",
     "text": [
      "[2 5 6 7 8 9]\n",
      "[1 0 2 0 3 1 2 4 0 5]\n"
     ]
    }
   ],
   "source": [
    "a = np.array([5,2,6,2,7,5,6,8,2,9])\n",
    "\n",
    "u,ids = np.unique(a,return_inverse = True)\n",
    "print(u)\n",
    "print(ids)"
   ]
  },
  {
   "cell_type": "code",
   "execution_count": 17,
   "id": "50331484",
   "metadata": {},
   "outputs": [],
   "source": [
    "coo = coo_matrix((coo_val, (indices, coo_col))) #coordinate"
   ]
  },
  {
   "cell_type": "code",
   "execution_count": 18,
   "id": "4bf3c6a3",
   "metadata": {},
   "outputs": [
    {
     "name": "stdout",
     "output_type": "stream",
     "text": [
      "(480189, 17771)\n"
     ]
    }
   ],
   "source": [
    "shape = coo.shape\n",
    "print(shape)"
   ]
  },
  {
   "cell_type": "code",
   "execution_count": 19,
   "id": "e28c1e76",
   "metadata": {},
   "outputs": [],
   "source": [
    "from sklearn.model_selection import train_test_split\n",
    "train_row, test_row, train_col, test_col, train_data, test_data = train_test_split( \n",
    "    coo.row, coo.col, coo.data, test_size=0.2, random_state=42)"
   ]
  },
  {
   "cell_type": "code",
   "execution_count": 20,
   "id": "f3037dfc",
   "metadata": {},
   "outputs": [],
   "source": [
    "train_row, dev_row, train_col, dev_col, train_data, dev_data = train_test_split( \n",
    "    train_row, train_col, train_data, test_size=0.1, random_state=42)"
   ]
  },
  {
   "cell_type": "code",
   "execution_count": 21,
   "id": "a4ec2905",
   "metadata": {},
   "outputs": [
    {
     "name": "stdout",
     "output_type": "stream",
     "text": [
      "72345964\n",
      "20096102\n",
      "8038441\n"
     ]
    }
   ],
   "source": [
    "print(len(train_data))\n",
    "print(len(test_data))\n",
    "print(len(dev_data))"
   ]
  },
  {
   "cell_type": "markdown",
   "id": "5c063a62",
   "metadata": {},
   "source": [
    "## DataSet"
   ]
  },
  {
   "cell_type": "code",
   "execution_count": 22,
   "id": "09bf78e7",
   "metadata": {},
   "outputs": [],
   "source": [
    "class RatingDataSet(Dataset):\n",
    "    def __init__(self, users, movies, ratings):\n",
    "        super().__init__()\n",
    "        self.users = users\n",
    "        self.movies = movies\n",
    "        self.ratings = ratings\n",
    "        \n",
    "    def __len__(self):\n",
    "        return len(self.users)\n",
    "    \n",
    "    def __getitem__(self, idx): \n",
    "        \n",
    "        user = self.users[idx]\n",
    "        movie = self.movies[idx]\n",
    "        rating = self.ratings[idx]\n",
    "        \n",
    "        \n",
    "        user = torch.as_tensor(np.array(user).astype('long'))\n",
    "        movie = torch.as_tensor(np.array(movie).astype('long'))\n",
    "        rating = torch.as_tensor(np.array(rating).astype('float32'))\n",
    "        \n",
    "        return user, movie, rating"
   ]
  },
  {
   "cell_type": "code",
   "execution_count": 23,
   "id": "9c1c23a3",
   "metadata": {},
   "outputs": [],
   "source": [
    "train_dataset = RatingDataSet(train_row, train_col, train_data)\n",
    "dev_dataset = RatingDataSet(dev_row, dev_col, dev_data)\n",
    "test_dataset = RatingDataSet(test_row, test_col, test_data)"
   ]
  },
  {
   "cell_type": "code",
   "execution_count": 24,
   "id": "4d6dc10c",
   "metadata": {},
   "outputs": [],
   "source": [
    "train_loader = DataLoader(dataset=train_dataset, batch_size=10000, shuffle=True)\n",
    "dev_loader = DataLoader(dataset=dev_dataset, batch_size=10000)\n",
    "test_loader = DataLoader(dataset=test_dataset, batch_size=10000)"
   ]
  },
  {
   "cell_type": "code",
   "execution_count": 25,
   "id": "4b0dc886",
   "metadata": {},
   "outputs": [],
   "source": [
    "# train_movies = torch.LongTensor(train_col)\n",
    "# train_users = torch.LongTensor(train_row)\n",
    "# train_ratings = torch.FloatTensor(train_data)\n",
    "# dev_movies = torch.LongTensor(dev_col)\n",
    "# dev_users = torch.LongTensor(dev_row)\n",
    "# dev_ratings = torch.FloatTensor(dev_data)\n",
    "# test_movies = torch.LongTensor(test_col)\n",
    "# test_users = torch.LongTensor(test_row)\n",
    "# test_ratings = torch.FloatTensor(test_data)"
   ]
  },
  {
   "cell_type": "code",
   "execution_count": 26,
   "id": "813e8b81",
   "metadata": {},
   "outputs": [],
   "source": [
    "# print(train_movies.unique())\n",
    "# # print(train_movies.max())\n",
    "# print(train_users.unique())\n",
    "# # print(train_users.max())"
   ]
  },
  {
   "cell_type": "markdown",
   "id": "49c03d75",
   "metadata": {},
   "source": [
    "##  Matrix Factorization "
   ]
  },
  {
   "cell_type": "markdown",
   "id": "ce959b4e",
   "metadata": {},
   "source": [
    "### Model"
   ]
  },
  {
   "cell_type": "code",
   "execution_count": 27,
   "id": "ca8839bc",
   "metadata": {},
   "outputs": [
    {
     "name": "stdout",
     "output_type": "stream",
     "text": [
      "17771\n",
      "480190\n"
     ]
    }
   ],
   "source": [
    "rank = 50\n",
    "numMovies = data['movie_id'].nunique()+1 # 영화 개수\n",
    "numUsers = data['user_id'].nunique()+1 # 유저 수\n",
    "print(numMovies)\n",
    "print(numUsers)"
   ]
  },
  {
   "cell_type": "code",
   "execution_count": 28,
   "id": "47282d8f",
   "metadata": {},
   "outputs": [],
   "source": [
    "class MF(torch.nn.Module):\n",
    "    def __init__(self, n_users, n_movies, rank=20):\n",
    "        super(MF, self).__init__()\n",
    "        self.users = torch.nn.Embedding(n_users, rank)\n",
    "        self.movies = torch.nn.Embedding(n_movies, rank) \n",
    "        \n",
    "    def forward(self, user, movie):\n",
    "        return torch.sum(self.users(user) * self.movies(movie), dim= 1)"
   ]
  },
  {
   "cell_type": "code",
   "execution_count": 29,
   "id": "210ca948",
   "metadata": {},
   "outputs": [],
   "source": [
    "class RMSELoss(torch.nn.Module):\n",
    "    def __init__(self):\n",
    "        super().__init__()\n",
    "        self.mse = torch.nn.MSELoss()\n",
    "        \n",
    "    def forward(self,yhat,y):\n",
    "        return torch.sqrt(self.mse(yhat,y))\n",
    "\n"
   ]
  },
  {
   "cell_type": "code",
   "execution_count": 30,
   "id": "85509507",
   "metadata": {},
   "outputs": [],
   "source": [
    "model = MF(numUsers, numMovies, rank=20).to(device)\n",
    "optimizer = torch.optim.Adam(model.parameters(), lr= 0.001)\n",
    "# criterion = torch.nn.MSELoss() #Mean Squared Error\n",
    "criterion = RMSELoss()\n"
   ]
  },
  {
   "cell_type": "markdown",
   "id": "49f2a5bc",
   "metadata": {},
   "source": [
    "### Embedding이란?\n",
    "학습을 한다는 것은 행렬과 벡터의 연산으로 가중치를 조절하는 것이기 때문에 **입력시키는 무언가(예를 들면 단어, 문장 등 토큰)를 벡터로 변경시켜주는 작업**"
   ]
  },
  {
   "cell_type": "markdown",
   "id": "fd52aa22",
   "metadata": {},
   "source": [
    "## Train"
   ]
  },
  {
   "cell_type": "code",
   "execution_count": 31,
   "id": "03ee4c0b",
   "metadata": {},
   "outputs": [],
   "source": [
    "# ## permutation은 array를 복사해서 셔플을 한다. shuffle은 array를 셔플해서 INPLACE를 한다.\n",
    "# p = np.random.permutation(len(train_movies)) \n",
    "\n",
    "# train_movies, train_users, train_ratings = train_movies[p], train_users[p], train_ratings[p]"
   ]
  },
  {
   "cell_type": "code",
   "execution_count": 36,
   "id": "b62b0be9",
   "metadata": {},
   "outputs": [],
   "source": [
    "accuracys = []\n",
    "costs = []"
   ]
  },
  {
   "cell_type": "code",
   "execution_count": 35,
   "id": "9494b9b4",
   "metadata": {},
   "outputs": [
    {
     "data": {
      "application/vnd.jupyter.widget-view+json": {
       "model_id": "4b453cff7a0f46ac98f7f53bfe1f7db6",
       "version_major": 2,
       "version_minor": 0
      },
      "text/plain": [
       "  0%|          | 0/7235 [00:00<?, ?it/s]"
      ]
     },
     "metadata": {},
     "output_type": "display_data"
    },
    {
     "name": "stdout",
     "output_type": "stream",
     "text": [
      "epoch : 1, cost = 1.498285\n",
      "Dev\n"
     ]
    },
    {
     "data": {
      "application/vnd.jupyter.widget-view+json": {
       "model_id": "c0b41b17fd63404599e51e5818e645ce",
       "version_major": 2,
       "version_minor": 0
      },
      "text/plain": [
       "  0%|          | 0/804 [00:00<?, ?it/s]"
      ]
     },
     "metadata": {},
     "output_type": "display_data"
    },
    {
     "name": "stdout",
     "output_type": "stream",
     "text": [
      "Accuracy : 2.4880446858333016e-07 ()\n"
     ]
    },
    {
     "data": {
      "application/vnd.jupyter.widget-view+json": {
       "model_id": "8c8084f010c243bcbde9d36a4c76df91",
       "version_major": 2,
       "version_minor": 0
      },
      "text/plain": [
       "  0%|          | 0/7235 [00:00<?, ?it/s]"
      ]
     },
     "metadata": {},
     "output_type": "display_data"
    },
    {
     "name": "stdout",
     "output_type": "stream",
     "text": [
      "epoch : 2, cost = 1.026589\n",
      "Dev\n"
     ]
    },
    {
     "data": {
      "application/vnd.jupyter.widget-view+json": {
       "model_id": "7df286eb8dc44e53bb0b90388d6bb6af",
       "version_major": 2,
       "version_minor": 0
      },
      "text/plain": [
       "  0%|          | 0/804 [00:00<?, ?it/s]"
      ]
     },
     "metadata": {},
     "output_type": "display_data"
    },
    {
     "name": "stdout",
     "output_type": "stream",
     "text": [
      "Accuracy : 2.4880446858333016e-07 ()\n"
     ]
    },
    {
     "data": {
      "application/vnd.jupyter.widget-view+json": {
       "model_id": "b3787e3b39ca4bef882b87ab7deb59f8",
       "version_major": 2,
       "version_minor": 0
      },
      "text/plain": [
       "  0%|          | 0/7235 [00:00<?, ?it/s]"
      ]
     },
     "metadata": {},
     "output_type": "display_data"
    },
    {
     "name": "stdout",
     "output_type": "stream",
     "text": [
      "epoch : 3, cost = 0.964339\n",
      "Dev\n"
     ]
    },
    {
     "data": {
      "application/vnd.jupyter.widget-view+json": {
       "model_id": "2df5e2ef31f34880857bfd0905461ac5",
       "version_major": 2,
       "version_minor": 0
      },
      "text/plain": [
       "  0%|          | 0/804 [00:00<?, ?it/s]"
      ]
     },
     "metadata": {},
     "output_type": "display_data"
    },
    {
     "name": "stdout",
     "output_type": "stream",
     "text": [
      "Accuracy : 0.0 ()\n"
     ]
    },
    {
     "data": {
      "application/vnd.jupyter.widget-view+json": {
       "model_id": "1a46f48b375c427581990d4736363e28",
       "version_major": 2,
       "version_minor": 0
      },
      "text/plain": [
       "  0%|          | 0/7235 [00:00<?, ?it/s]"
      ]
     },
     "metadata": {},
     "output_type": "display_data"
    },
    {
     "name": "stdout",
     "output_type": "stream",
     "text": [
      "epoch : 4, cost = 0.946075\n",
      "Dev\n"
     ]
    },
    {
     "data": {
      "application/vnd.jupyter.widget-view+json": {
       "model_id": "0a7819f6926640ea85a341815277a212",
       "version_major": 2,
       "version_minor": 0
      },
      "text/plain": [
       "  0%|          | 0/804 [00:00<?, ?it/s]"
      ]
     },
     "metadata": {},
     "output_type": "display_data"
    },
    {
     "name": "stdout",
     "output_type": "stream",
     "text": [
      "Accuracy : 0.0 ()\n"
     ]
    },
    {
     "data": {
      "application/vnd.jupyter.widget-view+json": {
       "model_id": "2473b4a6c1ca4ad3b0ec5080f1aa27b9",
       "version_major": 2,
       "version_minor": 0
      },
      "text/plain": [
       "  0%|          | 0/7235 [00:00<?, ?it/s]"
      ]
     },
     "metadata": {},
     "output_type": "display_data"
    },
    {
     "name": "stdout",
     "output_type": "stream",
     "text": [
      "epoch : 5, cost = 0.936340\n",
      "Dev\n"
     ]
    },
    {
     "data": {
      "application/vnd.jupyter.widget-view+json": {
       "model_id": "550b60a12c1041758b23077f4654eb45",
       "version_major": 2,
       "version_minor": 0
      },
      "text/plain": [
       "  0%|          | 0/804 [00:00<?, ?it/s]"
      ]
     },
     "metadata": {},
     "output_type": "display_data"
    },
    {
     "name": "stdout",
     "output_type": "stream",
     "text": [
      "Accuracy : 3.7320671708584996e-07 ()\n"
     ]
    }
   ],
   "source": [
    "for epoch in range(5):\n",
    "\n",
    "    cost = 0\n",
    "    batches = 0\n",
    "#     num_records = len(train_users)\n",
    "    for user, movie, rating in tqdm(train_loader):\n",
    "    #for row, col, rating in zip(train_users, train_movies, train_ratings):\n",
    "#         row = train_users[i]\n",
    "#         col = train_movies[i]\n",
    "#         rating = train_ratings[i]\n",
    "        \n",
    "#         #Tensor로 변경\n",
    "#         rating = torch.FloatTensor([rating])\n",
    "#         row = torch.LongTensor([row])\n",
    "#         col = torch.LongTensor([col])\n",
    "        user , movie, rating = user.to(device) , movie.to(device), rating.to(device)\n",
    "    \n",
    "        \n",
    "        # Predict and calculate loss\n",
    "        optimizer.zero_grad()\n",
    "        predict = model(user, movie)\n",
    "#         loss = criterion(predict, rating)\n",
    "        loss = criterion(predict,rating)\n",
    "\n",
    "        # Backpropagate\n",
    "        loss.backward()\n",
    "        # Update the parameters\n",
    "        optimizer.step()\n",
    "\n",
    "        cost += loss.item()\n",
    "        batches += 1\n",
    "        \n",
    "    cost /=batches\n",
    "\n",
    "    costs.append(cost)\n",
    "    print('epoch : {}, cost = {:.6f}'.format(epoch+1, cost))\n",
    "    print(\"Dev\")\n",
    "    test(dev_loader, model)"
   ]
  },
  {
   "cell_type": "markdown",
   "id": "fd1aa15b",
   "metadata": {},
   "source": [
    "## Test"
   ]
  },
  {
   "cell_type": "code",
   "execution_count": null,
   "id": "3f516161",
   "metadata": {},
   "outputs": [],
   "source": [
    "print(criterion)"
   ]
  },
  {
   "cell_type": "code",
   "execution_count": 46,
   "id": "d2c36c10",
   "metadata": {},
   "outputs": [],
   "source": [
    "def test(dev_loader, model):\n",
    "\n",
    "    predictions = torch.tensor([], dtype=torch.float).to(device)\n",
    "    actual = torch.tensor([], dtype=torch.float).to(device)\n",
    "    \n",
    "#     n_predict = 0\n",
    "#     n_correct = 0\n",
    "    \n",
    "    with torch.no_grad():\n",
    "        model.eval()\n",
    "        for user, item, rating in tqdm(dev_loader):\n",
    "            user, item, rating = user.to(device), item.to(device), rating.to(device)\n",
    "            predicted = model(user, item)\n",
    "#             print(y_hat.shape)\n",
    "#             _, predicted = torch.max(y_hat)\n",
    "            \n",
    "#             n_predict += len(predicted)\n",
    "#             n_correct += (rating == predicted).sum()\n",
    "            predictions = torch.cat((predictions, predicted), 0)\n",
    "            actual = torch.cat((actual, rating), 0)\n",
    "    \n",
    "    predictions = predictions.cpu().numpy()\n",
    "    actual = actual.cpu().numpy()\n",
    "    rmse = np.sqrt(mean_squared_error(predictions, actual))\n",
    "    \n",
    "    return rmse\n",
    "#     accuracy = n_correct/n_predict\n",
    "#     print(f\"Accuracy : {accuracy} ()\")\n",
    "    \n",
    "\n",
    "#     accuracys.append(accuracy)"
   ]
  },
  {
   "cell_type": "code",
   "execution_count": 48,
   "id": "c3dc14a3",
   "metadata": {},
   "outputs": [],
   "source": [
    "from sklearn.metrics import mean_squared_error"
   ]
  },
  {
   "cell_type": "code",
   "execution_count": 49,
   "id": "86d6b2e0",
   "metadata": {},
   "outputs": [
    {
     "data": {
      "application/vnd.jupyter.widget-view+json": {
       "model_id": "46fcf337da8b4218b94ab7aabe884efd",
       "version_major": 2,
       "version_minor": 0
      },
      "text/plain": [
       "  0%|          | 0/2010 [00:00<?, ?it/s]"
      ]
     },
     "metadata": {},
     "output_type": "display_data"
    },
    {
     "name": "stdout",
     "output_type": "stream",
     "text": [
      "test rmse : 0.9448485970497131\n"
     ]
    }
   ],
   "source": [
    "test_rmse = test(test_loader,model)\n",
    "print(f'test rmse : {test_rmse}')"
   ]
  },
  {
   "cell_type": "code",
   "execution_count": null,
   "id": "9b701ce5",
   "metadata": {},
   "outputs": [],
   "source": [
    "data.head()"
   ]
  },
  {
   "cell_type": "code",
   "execution_count": null,
   "id": "d673e3f3",
   "metadata": {},
   "outputs": [],
   "source": [
    "data_822109 = data[(data['user_id']== 822109) & (data['rating'] == 5)]\n",
    "data_822109"
   ]
  },
  {
   "cell_type": "code",
   "execution_count": null,
   "id": "846086bc",
   "metadata": {},
   "outputs": [],
   "source": [
    "movie_822109 = data_822109.movie_id.reset_index()\n",
    "movie_822109 = movie_822109.drop('index', axis=1)\n",
    "movie_822109.head()"
   ]
  },
  {
   "cell_type": "code",
   "execution_count": null,
   "id": "f048ba03",
   "metadata": {},
   "outputs": [],
   "source": [
    "np.where(user == 822109)"
   ]
  },
  {
   "cell_type": "code",
   "execution_count": null,
   "id": "f5a9a833",
   "metadata": {},
   "outputs": [],
   "source": [
    "torch.tensor(149546)"
   ]
  },
  {
   "cell_type": "code",
   "execution_count": null,
   "id": "c8df6987",
   "metadata": {},
   "outputs": [],
   "source": [
    "estimate_rate = []\n",
    "for item in movie_822109['movie_id']:\n",
    "    user = torch.tensor(149546).to(device)\n",
    "    item = torch.tensor(item).to(device)\n",
    "    predicted = model(user, item)\n",
    "    estimate_rate.append(predicted)"
   ]
  },
  {
   "cell_type": "markdown",
   "id": "b60cd343",
   "metadata": {},
   "source": [
    "## Save"
   ]
  },
  {
   "cell_type": "code",
   "execution_count": 38,
   "id": "6e62c11e",
   "metadata": {},
   "outputs": [],
   "source": [
    "PATH = 'RMSE.tar'\n",
    "torch.save({\n",
    "#             'epoch': epoch,\n",
    "            'model_state_dict': model.state_dict(),\n",
    "            'optimizer': optimizer.state_dict(),\n",
    "            'loss': criterion\n",
    "            }, PATH)"
   ]
  },
  {
   "cell_type": "markdown",
   "id": "e1e1cc30",
   "metadata": {},
   "source": [
    "## Load"
   ]
  },
  {
   "cell_type": "code",
   "execution_count": null,
   "id": "34f4e402",
   "metadata": {},
   "outputs": [],
   "source": [
    "model = MF(numUsers, numMovies, rank=20).to(device)\n",
    "checkpoint = torch.load('model.pt')\n",
    "model.load_state_dict(checkpoint)"
   ]
  },
  {
   "cell_type": "code",
   "execution_count": 33,
   "id": "6cf26923",
   "metadata": {},
   "outputs": [],
   "source": [
    "checkpoint = torch.load('RMSE.tar')\n",
    "model = MF(numUsers, numMovies, rank=20).to(device)\n",
    "model.load_state_dict(checkpoint['model_state_dict'])\n",
    "optimizer.load_state_dict(checkpoint['optimizer'])\n",
    "# epoch = checkpoint['epoch']\n",
    "loss = checkpoint['loss']\n",
    "\n",
    "# model.eval()\n",
    "# # - or -\n",
    "# model.train()"
   ]
  },
  {
   "cell_type": "code",
   "execution_count": null,
   "id": "b816e4bd",
   "metadata": {},
   "outputs": [],
   "source": []
  }
 ],
 "metadata": {
  "kernelspec": {
   "display_name": "Python 3",
   "language": "python",
   "name": "python3"
  },
  "language_info": {
   "codemirror_mode": {
    "name": "ipython",
    "version": 3
   },
   "file_extension": ".py",
   "mimetype": "text/x-python",
   "name": "python",
   "nbconvert_exporter": "python",
   "pygments_lexer": "ipython3",
   "version": "3.8.8"
  }
 },
 "nbformat": 4,
 "nbformat_minor": 5
}
